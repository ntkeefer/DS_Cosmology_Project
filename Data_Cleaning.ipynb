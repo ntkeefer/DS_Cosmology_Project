{
 "cells": [
  {
   "cell_type": "markdown",
   "metadata": {},
   "source": [
    "**Work book for Data cleaning**"
   ]
  },
  {
   "cell_type": "code",
   "execution_count": 34,
   "metadata": {},
   "outputs": [],
   "source": [
    "#library and function tab\n",
    "import pandas as pd\n",
    "import numpy as np\n",
    "import glob"
   ]
  },
  {
   "cell_type": "code",
   "execution_count": 35,
   "metadata": {},
   "outputs": [
    {
     "name": "stdout",
     "output_type": "stream",
     "text": [
      "    class  redshift  redshift_err  green_mag  green_err  green_ext   red_mag  \\\n",
      "0  GALAXY  0.663943      0.000208   21.65771   0.235482   0.068476  19.92545   \n",
      "1  GALAXY  0.088757      0.000006   16.90408   0.004854   0.094637  16.61640   \n",
      "2  GALAXY  0.531139      0.000117   22.44451   0.186428   0.322586  21.09644   \n",
      "3  GALAXY  0.618725      0.000199   22.11675   0.129031   0.057454  20.75896   \n",
      "4  GALAXY  0.186035      0.000029   17.98648   0.008476   0.064901  16.74539   \n",
      "\n",
      "    red_err   red_ext  \n",
      "0  0.073894  0.047372  \n",
      "1  0.005107  0.065469  \n",
      "2  0.083654  0.223163  \n",
      "3  0.065398  0.039746  \n",
      "4  0.004924  0.044898  \n"
     ]
    }
   ],
   "source": [
    "#import files using glob\n",
    "files=glob.glob('roughdata/roughdata*.csv') #use glob to make list of file names\n",
    "dataframes=[]\n",
    "for filename in files:\n",
    "    dataframes.append(pd.read_csv(filename,header=None,names=['class','redshift','redshift_err','green_mag','green_err',\n",
    "                  'green_ext','red_mag','red_err','red_ext'],\n",
    "                                 skiprows=2))\n",
    "\n",
    "print(dataframes[-1].head()) #we used skiprows=2 to bypass the headers and useless naming\n",
    "#then renames the columns as well"
   ]
  },
  {
   "cell_type": "code",
   "execution_count": 36,
   "metadata": {
    "scrolled": true
   },
   "outputs": [
    {
     "name": "stdout",
     "output_type": "stream",
     "text": [
      "<class 'pandas.core.frame.DataFrame'>\n",
      "RangeIndex: 28677 entries, 0 to 28676\n",
      "Data columns (total 9 columns):\n",
      "class           28677 non-null object\n",
      "redshift        28677 non-null float64\n",
      "redshift_err    28677 non-null float64\n",
      "green_mag       28677 non-null float64\n",
      "green_err       28677 non-null float64\n",
      "green_ext       28677 non-null float64\n",
      "red_mag         28677 non-null float64\n",
      "red_err         28677 non-null float64\n",
      "red_ext         28677 non-null float64\n",
      "dtypes: float64(8), object(1)\n",
      "memory usage: 2.0+ MB\n",
      "None\n",
      "<class 'pandas.core.frame.DataFrame'>\n",
      "RangeIndex: 21413 entries, 0 to 21412\n",
      "Data columns (total 9 columns):\n",
      "class           21413 non-null object\n",
      "redshift        21413 non-null float64\n",
      "redshift_err    21413 non-null float64\n",
      "green_mag       21413 non-null float64\n",
      "green_err       21413 non-null float64\n",
      "green_ext       21413 non-null float64\n",
      "red_mag         21413 non-null float64\n",
      "red_err         21413 non-null float64\n",
      "red_ext         21413 non-null float64\n",
      "dtypes: float64(8), object(1)\n",
      "memory usage: 1.5+ MB\n",
      "None\n"
     ]
    }
   ],
   "source": [
    "print(dataframes[0].info())\n",
    "print(dataframes[-1].info())\n"
   ]
  },
  {
   "cell_type": "code",
   "execution_count": 41,
   "metadata": {},
   "outputs": [],
   "source": [
    "for i in range(len(dataframes)):\n",
    "    dataframes[i] = dataframes[i].drop_duplicates()\n",
    "   \n",
    "\n",
    "#dataframes[0].drop_duplicates()\n",
    "\n"
   ]
  },
  {
   "cell_type": "code",
   "execution_count": 42,
   "metadata": {},
   "outputs": [
    {
     "name": "stdout",
     "output_type": "stream",
     "text": [
      "<class 'pandas.core.frame.DataFrame'>\n",
      "Int64Index: 28677 entries, 0 to 28676\n",
      "Data columns (total 9 columns):\n",
      "class           28677 non-null object\n",
      "redshift        28677 non-null float64\n",
      "redshift_err    28677 non-null float64\n",
      "green_mag       28677 non-null float64\n",
      "green_err       28677 non-null float64\n",
      "green_ext       28677 non-null float64\n",
      "red_mag         28677 non-null float64\n",
      "red_err         28677 non-null float64\n",
      "red_ext         28677 non-null float64\n",
      "dtypes: float64(8), object(1)\n",
      "memory usage: 2.2+ MB\n",
      "None\n",
      "<class 'pandas.core.frame.DataFrame'>\n",
      "Int64Index: 21413 entries, 0 to 21412\n",
      "Data columns (total 9 columns):\n",
      "class           21413 non-null object\n",
      "redshift        21413 non-null float64\n",
      "redshift_err    21413 non-null float64\n",
      "green_mag       21413 non-null float64\n",
      "green_err       21413 non-null float64\n",
      "green_ext       21413 non-null float64\n",
      "red_mag         21413 non-null float64\n",
      "red_err         21413 non-null float64\n",
      "red_ext         21413 non-null float64\n",
      "dtypes: float64(8), object(1)\n",
      "memory usage: 1.6+ MB\n",
      "None\n"
     ]
    }
   ],
   "source": [
    "print(dataframes[0].info())\n",
    "print(dataframes[-1].info())"
   ]
  },
  {
   "cell_type": "code",
   "execution_count": 43,
   "metadata": {},
   "outputs": [],
   "source": [
    "#convert all values(strings) to floats\n",
    "for i in range(len(dataframes)):\n",
    "    dataframes[i]['redshift'] = (dataframes[i]['redshift']).astype(float)\n",
    "    dataframes[i]['redshift_err'] = (dataframes[i]['redshift_err']).astype(float)\n",
    "    dataframes[i]['green_mag'] = (dataframes[i]['green_mag']).astype(float)\n",
    "    dataframes[i]['green_err'] = (dataframes[i]['green_err']).astype(float)\n",
    "    dataframes[i]['green_ext'] = (dataframes[i]['green_ext']).astype(float)\n",
    "    dataframes[i]['red_mag'] = (dataframes[i]['red_mag']).astype(float)\n",
    "    dataframes[i]['red_err'] = (dataframes[i]['red_err']).astype(float)\n",
    "    dataframes[i]['red_ext'] = (dataframes[i]['red_ext']).astype(float)\n",
    "    \n",
    "\n",
    "                    "
   ]
  },
  {
   "cell_type": "code",
   "execution_count": 44,
   "metadata": {},
   "outputs": [
    {
     "name": "stdout",
     "output_type": "stream",
     "text": [
      "<class 'pandas.core.frame.DataFrame'>\n",
      "Int64Index: 28677 entries, 0 to 28676\n",
      "Data columns (total 9 columns):\n",
      "class           28677 non-null object\n",
      "redshift        28677 non-null float64\n",
      "redshift_err    28677 non-null float64\n",
      "green_mag       28677 non-null float64\n",
      "green_err       28677 non-null float64\n",
      "green_ext       28677 non-null float64\n",
      "red_mag         28677 non-null float64\n",
      "red_err         28677 non-null float64\n",
      "red_ext         28677 non-null float64\n",
      "dtypes: float64(8), object(1)\n",
      "memory usage: 2.2+ MB\n",
      "None\n",
      "<class 'pandas.core.frame.DataFrame'>\n",
      "Int64Index: 21413 entries, 0 to 21412\n",
      "Data columns (total 9 columns):\n",
      "class           21413 non-null object\n",
      "redshift        21413 non-null float64\n",
      "redshift_err    21413 non-null float64\n",
      "green_mag       21413 non-null float64\n",
      "green_err       21413 non-null float64\n",
      "green_ext       21413 non-null float64\n",
      "red_mag         21413 non-null float64\n",
      "red_err         21413 non-null float64\n",
      "red_ext         21413 non-null float64\n",
      "dtypes: float64(8), object(1)\n",
      "memory usage: 1.6+ MB\n",
      "None\n"
     ]
    }
   ],
   "source": [
    "#now we want to to check our the data overall, such as data types\n",
    "#and to change the column names to nicer things\n",
    "print(dataframes[0].info())\n",
    "print(dataframes[-1].info())"
   ]
  },
  {
   "cell_type": "code",
   "execution_count": 45,
   "metadata": {},
   "outputs": [],
   "source": [
    "#output all into different clean csv files\n",
    "i=0\n",
    "while i < len(dataframes):\n",
    "    if i < 10:\n",
    "        dataframes[i].to_csv('cleandata/cleandata14k_%s.csv' %(1+i),index=False)\n",
    "    if 9< i <20:\n",
    "        dataframes[i].to_csv('cleandata/cleandata20k_%s.csv' %(-9+i),index=False)\n",
    "    if 19< i < 31:\n",
    "        dataframes[i].to_csv('cleandata/cleandata28k_%s.csv' %(-19+i),index=False)\n",
    "    if 29 < i < 41:\n",
    "        dataframes[i].to_csv('cleandata/cleandata7k_%s.csv' %(-29+i),index=False)\n",
    "    i+=1"
   ]
  },
  {
   "cell_type": "code",
   "execution_count": null,
   "metadata": {},
   "outputs": [],
   "source": []
  }
 ],
 "metadata": {
  "kernelspec": {
   "display_name": "Python 3",
   "language": "python",
   "name": "python3"
  },
  "language_info": {
   "codemirror_mode": {
    "name": "ipython",
    "version": 3
   },
   "file_extension": ".py",
   "mimetype": "text/x-python",
   "name": "python",
   "nbconvert_exporter": "python",
   "pygments_lexer": "ipython3",
   "version": "3.6.8"
  }
 },
 "nbformat": 4,
 "nbformat_minor": 2
}
