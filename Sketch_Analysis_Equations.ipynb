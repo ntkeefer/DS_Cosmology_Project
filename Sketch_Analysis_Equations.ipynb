{
 "cells": [
  {
   "cell_type": "markdown",
   "metadata": {},
   "source": [
    "## Sketch of Analysis and Equations \n",
    "\n",
    "**Part 1**\n",
    "\n",
    "Our main idea behind this project is broken up into two main parts. The first being trying to reproduce the hubble constant by constructing a graph of distance vs velocity. For velocity it is a very simple equation that we can use $$v=c*\\frac{(z+1)^2-1}{(z+1)^2+1}$$ where c is the speed of light and z is redshift, this approximation can be used because we are assuming that overall we will not have any objects at such a high redshift that we must include the relativistic correction. We will go back and asses this approximation if necessary.\n",
    "\n",
    "\n",
    "To calculate the distance we are using the flux equation $$F=\\frac{L}{4\\pi*d^2}$$ where F is the Flux of the star in Watts per meter, L is Luminosity, and d is the distance to the star. \n",
    "\n",
    "\n",
    "We then rearrange to solve for distance and get $$d=\\sqrt{\\frac{L}{4\\pi*F}}$$ \n",
    "For this analysis a large assumption we are going to make is assume Galaxies and QSO's can be represented as a standard candle when sampled on such a large scale. We will assume two seperate Lumonisties for QSO and Galaxies in watts, 5e36 and 2e40 respectively.\n",
    "\n",
    "To find Flux we will be using the apparent magnitude in the red band since it captures the most data. We will be using the equation $$F=F_{sun}*10^{0.4(m_{sun}-m)}$$\n",
    "Where the ***m*** represents the apparent magintude in the red band. Since both the apparent magnitude and flux of the sun are known, we just plug in our magnitude from SDSS and find our flux, then using that to find distance we now have our data to create the distance vs velocity graph. Once we have done this we will take a linear regression and calculate the slope of the line, this will be our estimate for the hubble parameter. Depending on our outcome and regression $R^2$ value we can look at extinction or our assumtion on velocity and luminosities.\n",
    "\n",
    "\n"
   ]
  },
  {
   "cell_type": "markdown",
   "metadata": {},
   "source": [
    "**Part 2 & 3**\n",
    "\n",
    "\n",
    "Once we have our Hubble constant $H_o$ estimate we can move on to the second part of our project. Using machine learing to reproduce the categorial grouping of Red vs Blue galaxies **(Part 2)**. To do this we will use a graph of Absolute Magnitude vs $(g - r)$, where $(g - r)$ is the difference between the green and red apparent magnitude. The importance of $(g - r)$ is that the high values represent \"redder\" objects and lower values represent \"bluer\" objects.\n",
    "\n",
    "\n",
    "Apparent magnitude is brightness of the object at a standard distance 10 parsecs or around 31 light years. To calculate this value from our apparent magnitude, we will be using just the red band again due to its higher sensitivity and using the equation\n",
    "\n",
    "$$M_{absolute}=m_{apparent}-5\\log_{10}{(\\frac{c*z}{H_0})}+5-A_r$$\n",
    "\n",
    "where $A_r$ is the extinction value and $m_{apparent}$ is the red band magnitude. Once we have these we can create a scatter plot and use a support vector machine to create a kernal to classify galaxies as red vs blue **(Part 3)**.\n",
    "\n",
    "Overall we believe this project is within our skill level while still having to overcome many challenges along the way. We are excited to progress and see the results, as well as use our results to show some interesting data about the universe we live in.\n"
   ]
  },
  {
   "cell_type": "code",
   "execution_count": null,
   "metadata": {},
   "outputs": [],
   "source": []
  }
 ],
 "metadata": {
  "kernelspec": {
   "display_name": "Python 3",
   "language": "python",
   "name": "python3"
  },
  "language_info": {
   "codemirror_mode": {
    "name": "ipython",
    "version": 3
   },
   "file_extension": ".py",
   "mimetype": "text/x-python",
   "name": "python",
   "nbconvert_exporter": "python",
   "pygments_lexer": "ipython3",
   "version": "3.6.8"
  }
 },
 "nbformat": 4,
 "nbformat_minor": 2
}
